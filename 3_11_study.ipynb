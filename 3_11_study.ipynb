{
 "cells": [
  {
   "cell_type": "code",
   "execution_count": 14,
   "metadata": {
    "collapsed": false
   },
   "outputs": [
    {
     "name": "stdout",
     "output_type": "stream",
     "text": [
      "a\n",
      "1\n"
     ]
    }
   ],
   "source": [
    "A = \"a\"\n",
    "a = 1\n",
    "\n",
    "print A\n",
    "print a"
   ]
  },
  {
   "cell_type": "markdown",
   "metadata": {},
   "source": [
    "a = 3.111111111111111111111\n",
    "print type(a)\n",
    "a = \"13.111111111111111111111\"\n",
    "print type(a)\n",
    "a = 311111\n",
    "print type(a)"
   ]
  },
  {
   "cell_type": "markdown",
   "metadata": {},
   "source": [
    "a = 12\n",
    "12 = a"
   ]
  },
  {
   "cell_type": "code",
   "execution_count": 24,
   "metadata": {
    "collapsed": false
   },
   "outputs": [
    {
     "name": "stdout",
     "output_type": "stream",
     "text": [
      "12\n",
      "hello\n",
      "-------------------\n",
      "12\n",
      "12\n",
      "-----------------------\n",
      "98\n",
      "12\n"
     ]
    }
   ],
   "source": [
    "a = 12\n",
    "b = \"hello\"\n",
    "print a\n",
    "print b \n",
    "\n",
    "print \"-------------------\"\n",
    "\n",
    "b = a \n",
    "print a\n",
    "print b\n",
    "print \"-----------------------\"\n",
    "\n",
    "#b와 a같 묶여서 가진않는다\n",
    "a= 98\n",
    "print a\n",
    "print b"
   ]
  },
  {
   "cell_type": "code",
   "execution_count": 25,
   "metadata": {
    "collapsed": false
   },
   "outputs": [
    {
     "name": "stdout",
     "output_type": "stream",
     "text": [
      "abcdabcd\n"
     ]
    }
   ],
   "source": [
    "a = \"abcd\"\n",
    "a = a + \"abcd\"\n",
    "print a"
   ]
  },
  {
   "cell_type": "code",
   "execution_count": 44,
   "metadata": {
    "collapsed": false
   },
   "outputs": [
    {
     "name": "stdout",
     "output_type": "stream",
     "text": [
      "Hello.\"What!!\"  \n"
     ]
    }
   ],
   "source": [
    "a =  \"\"\"Hello.\"What!!\"  \"\"\"\n",
    "print a"
   ]
  },
  {
   "cell_type": "code",
   "execution_count": 34,
   "metadata": {
    "collapsed": false
   },
   "outputs": [
    {
     "name": "stdout",
     "output_type": "stream",
     "text": [
      "[1, 2, 34, 'abcd']\n"
     ]
    }
   ],
   "source": [
    "a_list = [1,2,34,\"abcd\"]\n",
    "print a_list"
   ]
  },
  {
   "cell_type": "code",
   "execution_count": 38,
   "metadata": {
    "collapsed": false
   },
   "outputs": [
    {
     "name": "stdout",
     "output_type": "stream",
     "text": [
      "[1, 2, 34, 'abcd', 'a', 'a', 'a', 'a']\n"
     ]
    }
   ],
   "source": [
    "a_list.append(\"a\")\n",
    "print a_list"
   ]
  },
  {
   "cell_type": "code",
   "execution_count": 39,
   "metadata": {
    "collapsed": false
   },
   "outputs": [
    {
     "name": "stdout",
     "output_type": "stream",
     "text": [
      "[1, 2, 34, 'abcd', 'a', 'a', 'a', 'a', 'a']\n"
     ]
    }
   ],
   "source": [
    "a_list.append(\"a\")\n",
    "print a_list"
   ]
  },
  {
   "cell_type": "code",
   "execution_count": 42,
   "metadata": {
    "collapsed": false
   },
   "outputs": [
    {
     "name": "stdout",
     "output_type": "stream",
     "text": [
      "[1, 2, 'b', 'b', 34, 'abcd', 'a', 'a', 'a', 'a', 'a']\n",
      "[1, 2, 'b', 'b', 'b', 34, 'abcd', 'a', 'a', 'a', 'a', 'a']\n"
     ]
    }
   ],
   "source": [
    "print a_list\n",
    "a_list.insert(2,\"b\")\n",
    "print a_list"
   ]
  },
  {
   "cell_type": "code",
   "execution_count": 43,
   "metadata": {
    "collapsed": false
   },
   "outputs": [
    {
     "name": "stdout",
     "output_type": "stream",
     "text": [
      "[1, 2, 'b', 'b', 'b', 34, 'abcd', 'a', 'a', 'a', 'a', 'a']\n",
      "[1, 2, 'b', 'b', 34, 'abcd', 'a', 'a', 'a', 'a', 'a']\n"
     ]
    }
   ],
   "source": [
    "print a_list\n",
    "a_list.pop(3)\n",
    "print a_list"
   ]
  },
  {
   "cell_type": "code",
   "execution_count": 48,
   "metadata": {
    "collapsed": false
   },
   "outputs": [
    {
     "name": "stdout",
     "output_type": "stream",
     "text": [
      "[2, 'b', 'b', 34, 'abcd', 'a', 'a', 'a']\n"
     ]
    },
    {
     "ename": "ValueError",
     "evalue": "list.remove(x): x not in list",
     "output_type": "error",
     "traceback": [
      "\u001b[0;31m---------------------------------------------------------------------------\u001b[0m",
      "\u001b[0;31mValueError\u001b[0m                                Traceback (most recent call last)",
      "\u001b[0;32m<ipython-input-48-3e4bbf5242e5>\u001b[0m in \u001b[0;36m<module>\u001b[0;34m()\u001b[0m\n\u001b[1;32m      1\u001b[0m \u001b[1;32mprint\u001b[0m \u001b[0ma_list\u001b[0m\u001b[1;33m\u001b[0m\u001b[0m\n\u001b[0;32m----> 2\u001b[0;31m \u001b[0ma_list\u001b[0m\u001b[1;33m.\u001b[0m\u001b[0mremove\u001b[0m\u001b[1;33m(\u001b[0m\u001b[1;36m1\u001b[0m\u001b[1;33m)\u001b[0m\u001b[1;33m\u001b[0m\u001b[0m\n\u001b[0m\u001b[1;32m      3\u001b[0m \u001b[1;32mprint\u001b[0m \u001b[0ma_list\u001b[0m\u001b[1;33m\u001b[0m\u001b[0m\n",
      "\u001b[0;31mValueError\u001b[0m: list.remove(x): x not in list"
     ]
    }
   ],
   "source": [
    "print a_list\n",
    "a_list.remove(1)\n",
    "print a_list"
   ]
  },
  {
   "cell_type": "code",
   "execution_count": 47,
   "metadata": {
    "collapsed": false
   },
   "outputs": [
    {
     "name": "stdout",
     "output_type": "stream",
     "text": [
      "[2, 'b', 'b', 34, 'abcd', 'a', 'a', 'a', 'a']\n",
      "[2, 'b', 'b', 34, 'abcd', 'a', 'a', 'a']\n"
     ]
    }
   ],
   "source": [
    "print a_list\n",
    "a_list.remove(\"a\")\n",
    "print a_list"
   ]
  },
  {
   "cell_type": "code",
   "execution_count": 50,
   "metadata": {
    "collapsed": true
   },
   "outputs": [],
   "source": [
    "d1 = {\"a\":1234,\"b\":5678}"
   ]
  },
  {
   "cell_type": "code",
   "execution_count": 52,
   "metadata": {
    "collapsed": false
   },
   "outputs": [
    {
     "data": {
      "text/plain": [
       "['a', 'b']"
      ]
     },
     "execution_count": 52,
     "metadata": {},
     "output_type": "execute_result"
    }
   ],
   "source": [
    "d1.keys() #리스트형태로 반환해줌"
   ]
  },
  {
   "cell_type": "code",
   "execution_count": 53,
   "metadata": {
    "collapsed": false
   },
   "outputs": [
    {
     "data": {
      "text/plain": [
       "[1234, 5678]"
      ]
     },
     "execution_count": 53,
     "metadata": {},
     "output_type": "execute_result"
    }
   ],
   "source": [
    "d1.values()"
   ]
  },
  {
   "cell_type": "code",
   "execution_count": 54,
   "metadata": {
    "collapsed": false
   },
   "outputs": [
    {
     "data": {
      "text/plain": [
       "1234"
      ]
     },
     "execution_count": 54,
     "metadata": {},
     "output_type": "execute_result"
    }
   ],
   "source": [
    "d1[\"a\"]"
   ]
  },
  {
   "cell_type": "code",
   "execution_count": 59,
   "metadata": {
    "collapsed": false
   },
   "outputs": [
    {
     "name": "stdout",
     "output_type": "stream",
     "text": [
      "a는 양수\n"
     ]
    }
   ],
   "source": [
    "a = 2\n",
    "if a>0:\n",
    "    print \"a는 양수\"\n",
    "elif a == 0:\n",
    "    print \"a는 0\"\n",
    "else:\n",
    "    print \"a는 음수\"\n",
    "        "
   ]
  },
  {
   "cell_type": "markdown",
   "metadata": {},
   "source": [
    "range(0,10)"
   ]
  },
  {
   "cell_type": "code",
   "execution_count": 60,
   "metadata": {
    "collapsed": false
   },
   "outputs": [
    {
     "data": {
      "text/plain": [
       "[0, 1, 2, 3, 4, 5, 6, 7, 8, 9]"
      ]
     },
     "execution_count": 60,
     "metadata": {},
     "output_type": "execute_result"
    }
   ],
   "source": [
    "range(0,10)"
   ]
  },
  {
   "cell_type": "code",
   "execution_count": 62,
   "metadata": {
    "collapsed": false
   },
   "outputs": [
    {
     "name": "stdout",
     "output_type": "stream",
     "text": [
      "0\n",
      "2\n",
      "4\n",
      "6\n",
      "8\n"
     ]
    }
   ],
   "source": [
    "for i in range(0,10,2):\n",
    "    print i"
   ]
  },
  {
   "cell_type": "code",
   "execution_count": 91,
   "metadata": {
    "collapsed": false
   },
   "outputs": [
    {
     "name": "stdout",
     "output_type": "stream",
     "text": [
      "12\n",
      "34\n",
      "56\n"
     ]
    }
   ],
   "source": [
    "a = [12,34,56]\n",
    "for i in a:\n",
    "    print i"
   ]
  },
  {
   "cell_type": "code",
   "execution_count": 90,
   "metadata": {
    "collapsed": false
   },
   "outputs": [
    {
     "name": "stdout",
     "output_type": "stream",
     "text": [
      "['a', 'b', 'd', 'e', 'f', 'g', 'i']\n"
     ]
    }
   ],
   "source": [
    "a = [\"a\",\"b\",\"c\",\"d\",\"e\",\"f\",\"g\",\"c\",\"i\"]\n",
    "b = []\n",
    "for i in range(0,len(a)):\n",
    "    if a[i] != \"c\":\n",
    "        b.append(a[i])\n",
    "print b"
   ]
  },
  {
   "cell_type": "code",
   "execution_count": 125,
   "metadata": {
    "collapsed": false
   },
   "outputs": [
    {
     "name": "stdout",
     "output_type": "stream",
     "text": [
      "<type 'list'>\n",
      "a\n",
      "b\n",
      "c\n",
      "d\n",
      "<type 'str'>\n",
      "<type 'str'>\n",
      "<type 'list'>\n",
      "c\n",
      "i\n",
      "['a', 'b', 'd', 'f', 'g', 'i']\n",
      "['a', 'b', 'c', 'd']\n",
      "a\n",
      "------------\n",
      "['a', 'b', 'c', 'd']\n",
      "b\n",
      "------------\n",
      "['a', 'b', 'c', 'd']\n",
      "c\n",
      "------------\n",
      "['a', 'b', 'c', 'd']\n",
      "d\n",
      "------------\n",
      "f\n",
      "f\n",
      "------------\n",
      "g\n",
      "g\n",
      "------------\n",
      "['c', 'i']\n",
      "c\n",
      "------------\n",
      "['c', 'i']\n",
      "i\n",
      "------------\n",
      "['a', 'b', 'd', 'f', 'g', 'i', 'a', 'b', 'd', 'f', 'g', 'i']\n"
     ]
    }
   ],
   "source": [
    "a = [[\"a\",\"b\",\"c\",\"d\"],\"f\",\"g\",[\"c\",\"i\"]]\n",
    "b = []\n",
    "\n",
    "                   \n",
    "\n",
    "for i in a:\n",
    "    print type(i)\n",
    "    if type(i)== type([]):\n",
    "        for j in i:\n",
    "            print j\n",
    "            if j != \"c\":\n",
    "                b.append(j)\n",
    "            else:\n",
    "                pass\n",
    "    else:\n",
    "        if(i != \"c\"):\n",
    "            b.append(i)\n",
    "        else:\n",
    "            pass\n",
    "            \n",
    "print b\n",
    "\n",
    "\n",
    "\n",
    "for i in range(0,len(a)):\n",
    "    for j in range(0,len(a[i])):\n",
    "        print a[i]\n",
    "        print a[i][j]\n",
    "        print \"------------\"\n",
    "        if a[i][j] != \"c\":\n",
    "            b.append(a[i][j])\n",
    "print b\n",
    "                "
   ]
  },
  {
   "cell_type": "code",
   "execution_count": 130,
   "metadata": {
    "collapsed": true
   },
   "outputs": [],
   "source": [
    "def sum2(a,b):\n",
    "    result = a + b\n",
    "    return result"
   ]
  },
  {
   "cell_type": "code",
   "execution_count": 126,
   "metadata": {
    "collapsed": false
   },
   "outputs": [
    {
     "data": {
      "text/plain": [
       "40"
      ]
     },
     "execution_count": 126,
     "metadata": {},
     "output_type": "execute_result"
    }
   ],
   "source": [
    "10+30"
   ]
  },
  {
   "cell_type": "code",
   "execution_count": 131,
   "metadata": {
    "collapsed": false
   },
   "outputs": [
    {
     "data": {
      "text/plain": [
       "40"
      ]
     },
     "execution_count": 131,
     "metadata": {},
     "output_type": "execute_result"
    }
   ],
   "source": [
    "sum2(10,30)"
   ]
  },
  {
   "cell_type": "code",
   "execution_count": 132,
   "metadata": {
    "collapsed": true
   },
   "outputs": [],
   "source": [
    "def noinput():\n",
    "    result = \"Hello!!!\"\n",
    "    return result"
   ]
  },
  {
   "cell_type": "code",
   "execution_count": 135,
   "metadata": {
    "collapsed": false
   },
   "outputs": [
    {
     "name": "stdout",
     "output_type": "stream",
     "text": [
      "Hello!!\n"
     ]
    }
   ],
   "source": [
    "a = noinput()\n",
    "print a"
   ]
  },
  {
   "cell_type": "code",
   "execution_count": 136,
   "metadata": {
    "collapsed": true
   },
   "outputs": [],
   "source": [
    "def noreturn(a,b):\n",
    "    temp = a + b\n",
    "    print \"Hello Python + :\" + str(temp)"
   ]
  },
  {
   "cell_type": "code",
   "execution_count": 140,
   "metadata": {
    "collapsed": false
   },
   "outputs": [
    {
     "name": "stdout",
     "output_type": "stream",
     "text": [
      "Hello Python + :5\n",
      "None\n"
     ]
    }
   ],
   "source": [
    "a = noreturn(2,3)\n",
    "print a"
   ]
  },
  {
   "cell_type": "code",
   "execution_count": 143,
   "metadata": {
    "collapsed": true
   },
   "outputs": [],
   "source": [
    "def noinreturn():\n",
    "    print \"hello!~~~~~\""
   ]
  },
  {
   "cell_type": "code",
   "execution_count": 144,
   "metadata": {
    "collapsed": false
   },
   "outputs": [
    {
     "name": "stdout",
     "output_type": "stream",
     "text": [
      "hello!~~~~~\n",
      "None\n",
      "-------\n",
      "hello!~~~~~\n"
     ]
    }
   ],
   "source": [
    "a = noinreturn()\n",
    "print a\n",
    "print \"-------\"\n",
    "noinreturn()"
   ]
  },
  {
   "cell_type": "code",
   "execution_count": 146,
   "metadata": {
    "collapsed": false
   },
   "outputs": [],
   "source": [
    "def sumrandom(*args):\n",
    "    result = 0\n",
    "    for i in args:\n",
    "        result = result + i\n",
    "    return result\n",
    "    "
   ]
  },
  {
   "cell_type": "code",
   "execution_count": 150,
   "metadata": {
    "collapsed": false
   },
   "outputs": [
    {
     "name": "stdout",
     "output_type": "stream",
     "text": [
      "239044\n",
      "55899\n"
     ]
    }
   ],
   "source": [
    "print sumrandom(1,2,2,3,423,4324,234234,23,32)\n",
    "print sumrandom(31,321,321,54325,435,43,423)"
   ]
  },
  {
   "cell_type": "code",
   "execution_count": null,
   "metadata": {
    "collapsed": true
   },
   "outputs": [],
   "source": [
    "myfunction(\"sum\",10,20,30,40) --> 10+20+30+40\n",
    "myfunction(\"count\",1,2,3,4,5,6,7) --> 7\n",
    "myfunction(\"ffffff\",1,2,3,4,5,6,7)  --> 지정되지않았습니다. - 경고문"
   ]
  },
  {
   "cell_type": "code",
   "execution_count": 153,
   "metadata": {
    "collapsed": true
   },
   "outputs": [],
   "source": [
    "def myfunction(func,*args):\n",
    "    if func == \"sum\":\n",
    "        result = 0\n",
    "        for i in args:\n",
    "            result = result + i\n",
    "        return result\n",
    "    elif func == \"count\":\n",
    "        return len(args)\n",
    "    else:\n",
    "        return \"check for your function parameter!!!\""
   ]
  },
  {
   "cell_type": "code",
   "execution_count": 154,
   "metadata": {
    "collapsed": false
   },
   "outputs": [
    {
     "name": "stdout",
     "output_type": "stream",
     "text": [
      "100\n",
      "7\n",
      "check for your function parameter!!!\n"
     ]
    }
   ],
   "source": [
    "a = myfunction(\"sum\",10,20,30,40)\n",
    "print a \n",
    "a = myfunction(\"count\",1,2,3,4,5,6,7)\n",
    "print a \n",
    "a = myfunction(\"ffffff\",1,2,3,4,5,6,7)\n",
    "print a"
   ]
  },
  {
   "cell_type": "code",
   "execution_count": 155,
   "metadata": {
    "collapsed": true
   },
   "outputs": [],
   "source": [
    "def multifunc(a,b):\n",
    "    return a+b, a-b, a*b, a/b , a+b+3"
   ]
  },
  {
   "cell_type": "code",
   "execution_count": 156,
   "metadata": {
    "collapsed": false
   },
   "outputs": [
    {
     "data": {
      "text/plain": [
       "(40, -20, 300, 0, 43)"
      ]
     },
     "execution_count": 156,
     "metadata": {},
     "output_type": "execute_result"
    }
   ],
   "source": [
    "multifunc(10,30) --> 리턴값이 듀블 쓰는건 리스트랑 같음ㅇㅇ"
   ]
  },
  {
   "cell_type": "code",
   "execution_count": null,
   "metadata": {
    "collapsed": true
   },
   "outputs": [],
   "source": [
    "def sum2(a,b):\n",
    "    result = a + b\n",
    "    return result\n",
    "sum2(10,20)"
   ]
  },
  {
   "cell_type": "code",
   "execution_count": 157,
   "metadata": {
    "collapsed": false
   },
   "outputs": [
    {
     "data": {
      "text/plain": [
       "40"
      ]
     },
     "execution_count": 157,
     "metadata": {},
     "output_type": "execute_result"
    }
   ],
   "source": [
    "(lambda x,y:x+y)(10,30)"
   ]
  },
  {
   "cell_type": "code",
   "execution_count": 165,
   "metadata": {
    "collapsed": false
   },
   "outputs": [],
   "source": [
    "def myfunc(func,*args):\n",
    "    if func == \"sel1\":\n",
    "        sumresult = 0\n",
    "        dexresult = 1\n",
    "        for i in args:\n",
    "            sumresult = sumresult + i\n",
    "            dexresult = dexresult * i\n",
    "        return sumresult,dexresult\n",
    "    elif func == \"sel2\":\n",
    "        return args[0],args[len(args)-1]\n",
    "    else:\n",
    "        return \"이상해요~~에러메세지\"\n",
    "\n",
    "            "
   ]
  },
  {
   "cell_type": "code",
   "execution_count": 166,
   "metadata": {
    "collapsed": false
   },
   "outputs": [
    {
     "name": "stdout",
     "output_type": "stream",
     "text": [
      "(15, 120)\n",
      "(1, 5)\n",
      "이상해요~~에러메세지\n"
     ]
    }
   ],
   "source": [
    "print myfunc(\"sel1\",1,2,3,4,5)\n",
    "print myfunc(\"sel2\",1,2,3,4,5)\n",
    "print myfunc(\"aaaa\",1,2,3,4,5)"
   ]
  },
  {
   "cell_type": "code",
   "execution_count": 168,
   "metadata": {
    "collapsed": false
   },
   "outputs": [],
   "source": [
    "import numpy as np"
   ]
  },
  {
   "cell_type": "code",
   "execution_count": 172,
   "metadata": {
    "collapsed": false
   },
   "outputs": [],
   "source": [
    "data1 = [6,7.5,8,0,1]\n",
    "arr1 = np.array(data1)\n",
    "\n",
    "data3 = [[1,2,3,4],[5,6,7,8]]\n",
    "arr3 = np.array(data3)"
   ]
  },
  {
   "cell_type": "code",
   "execution_count": 174,
   "metadata": {
    "collapsed": false
   },
   "outputs": [
    {
     "name": "stdout",
     "output_type": "stream",
     "text": [
      "[ 6.   7.5  8.   0.   1. ]\n",
      "1\n",
      "(5L,)\n",
      "float64\n",
      "[[1 2 3 4]\n",
      " [5 6 7 8]]\n",
      "2\n",
      "(2L, 4L)\n",
      "int32\n"
     ]
    }
   ],
   "source": [
    "print arr1\n",
    "print arr1.ndim\n",
    "print arr1.shape\n",
    "print arr1.dtype\n",
    "\n",
    "print arr3\n",
    "print arr3.ndim\n",
    "print arr3.shape\n",
    "print arr3.dtype"
   ]
  },
  {
   "cell_type": "code",
   "execution_count": 178,
   "metadata": {
    "collapsed": false
   },
   "outputs": [
    {
     "name": "stdout",
     "output_type": "stream",
     "text": [
      "[ 1.  2.  3.]\n",
      "[1 2 3]\n",
      "['1' '2' '3']\n",
      "[ 1.  2.  3.]\n"
     ]
    }
   ],
   "source": [
    "#자료형 바꾸는방법\n",
    "arr1 = np.array([1,2,3],dtype = np.float64)\n",
    "arr2 = np.array([1,2,3],dtype = np.int8)\n",
    "arr3 = np.array([1,2,3],dtype = np.string_)\n",
    "\n",
    "print arr1\n",
    "print arr2\n",
    "print arr3\n",
    "\n",
    "#변경수행 함수 astype\n",
    "arr3 = arr3.astype(np.float64)\n",
    "print arr3\n"
   ]
  },
  {
   "cell_type": "code",
   "execution_count": null,
   "metadata": {
    "collapsed": true
   },
   "outputs": [],
   "source": [
    "#배열 스칼라간 연산.\n"
   ]
  },
  {
   "cell_type": "code",
   "execution_count": null,
   "metadata": {
    "collapsed": true
   },
   "outputs": [],
   "source": []
  }
 ],
 "metadata": {
  "kernelspec": {
   "display_name": "Python 2",
   "language": "python",
   "name": "python2"
  },
  "language_info": {
   "codemirror_mode": {
    "name": "ipython",
    "version": 2
   },
   "file_extension": ".py",
   "mimetype": "text/x-python",
   "name": "python",
   "nbconvert_exporter": "python",
   "pygments_lexer": "ipython2",
   "version": "2.7.13"
  }
 },
 "nbformat": 4,
 "nbformat_minor": 2
}
